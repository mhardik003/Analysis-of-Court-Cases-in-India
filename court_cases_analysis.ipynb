{
 "cells": [
  {
   "attachments": {},
   "cell_type": "markdown",
   "metadata": {},
   "source": [
    "## Importing the libraries"
   ]
  },
  {
   "cell_type": "code",
   "execution_count": 1,
   "metadata": {},
   "outputs": [],
   "source": [
    "# !sudo apt-get install python3-pip\n",
    "# !sudo python3 -m pip install ipykernel\n",
    "# !pip3 install pandas\n",
    "\n",
    "import csv\n",
    "import pandas as pd\n",
    "import numpy as np\n",
    "import matplotlib.pyplot as plt\n"
   ]
  },
  {
   "attachments": {},
   "cell_type": "markdown",
   "metadata": {},
   "source": [
    "#### Function to read the csv files"
   ]
  },
  {
   "cell_type": "code",
   "execution_count": 2,
   "metadata": {},
   "outputs": [],
   "source": [
    "def read_csv(filename):\n",
    "    with open(filename) as f:\n",
    "        reader = csv.reader(f)\n",
    "        for row in reader:\n",
    "            print(row)"
   ]
  },
  {
   "cell_type": "code",
   "execution_count": 3,
   "metadata": {},
   "outputs": [],
   "source": [
    "# read_csv(\"./judges_clean.csv\")\n"
   ]
  },
  {
   "attachments": {},
   "cell_type": "markdown",
   "metadata": {},
   "source": [
    "# Converting the CSV files to Pandas dataframe"
   ]
  },
  {
   "cell_type": "code",
   "execution_count": 4,
   "metadata": {},
   "outputs": [
    {
     "data": {
      "text/html": [
       "<div>\n",
       "<style scoped>\n",
       "    .dataframe tbody tr th:only-of-type {\n",
       "        vertical-align: middle;\n",
       "    }\n",
       "\n",
       "    .dataframe tbody tr th {\n",
       "        vertical-align: top;\n",
       "    }\n",
       "\n",
       "    .dataframe thead th {\n",
       "        text-align: right;\n",
       "    }\n",
       "</style>\n",
       "<table border=\"1\" class=\"dataframe\">\n",
       "  <thead>\n",
       "    <tr style=\"text-align: right;\">\n",
       "      <th></th>\n",
       "      <th>ddl_judge_id</th>\n",
       "      <th>state_code</th>\n",
       "      <th>dist_code</th>\n",
       "      <th>court_no</th>\n",
       "      <th>judge_position</th>\n",
       "      <th>female_judge</th>\n",
       "      <th>start_date</th>\n",
       "      <th>end_date</th>\n",
       "    </tr>\n",
       "  </thead>\n",
       "  <tbody>\n",
       "    <tr>\n",
       "      <th>0</th>\n",
       "      <td>1</td>\n",
       "      <td>1</td>\n",
       "      <td>1</td>\n",
       "      <td>1</td>\n",
       "      <td>chief judicial magistrate</td>\n",
       "      <td>0 nonfemale</td>\n",
       "      <td>20-09-2013</td>\n",
       "      <td>20-02-2014</td>\n",
       "    </tr>\n",
       "    <tr>\n",
       "      <th>1</th>\n",
       "      <td>2</td>\n",
       "      <td>1</td>\n",
       "      <td>1</td>\n",
       "      <td>1</td>\n",
       "      <td>chief judicial magistrate</td>\n",
       "      <td>0 nonfemale</td>\n",
       "      <td>31-10-2013</td>\n",
       "      <td>20-02-2014</td>\n",
       "    </tr>\n",
       "    <tr>\n",
       "      <th>2</th>\n",
       "      <td>3</td>\n",
       "      <td>1</td>\n",
       "      <td>1</td>\n",
       "      <td>1</td>\n",
       "      <td>chief judicial magistrate</td>\n",
       "      <td>0 nonfemale</td>\n",
       "      <td>21-02-2014</td>\n",
       "      <td>31-05-2016</td>\n",
       "    </tr>\n",
       "    <tr>\n",
       "      <th>3</th>\n",
       "      <td>4</td>\n",
       "      <td>1</td>\n",
       "      <td>1</td>\n",
       "      <td>1</td>\n",
       "      <td>chief judicial magistrate</td>\n",
       "      <td>0 nonfemale</td>\n",
       "      <td>01-06-2016</td>\n",
       "      <td>06-06-2016</td>\n",
       "    </tr>\n",
       "    <tr>\n",
       "      <th>4</th>\n",
       "      <td>5</td>\n",
       "      <td>1</td>\n",
       "      <td>1</td>\n",
       "      <td>1</td>\n",
       "      <td>chief judicial magistrate</td>\n",
       "      <td>0 nonfemale</td>\n",
       "      <td>06-06-2016</td>\n",
       "      <td>07-07-2018</td>\n",
       "    </tr>\n",
       "    <tr>\n",
       "      <th>5</th>\n",
       "      <td>6</td>\n",
       "      <td>1</td>\n",
       "      <td>1</td>\n",
       "      <td>1</td>\n",
       "      <td>chief judicial magistrate</td>\n",
       "      <td>1 female</td>\n",
       "      <td>09-07-2018</td>\n",
       "      <td>NaN</td>\n",
       "    </tr>\n",
       "    <tr>\n",
       "      <th>6</th>\n",
       "      <td>7</td>\n",
       "      <td>1</td>\n",
       "      <td>1</td>\n",
       "      <td>1</td>\n",
       "      <td>civil judge junior division</td>\n",
       "      <td>0 nonfemale</td>\n",
       "      <td>01-06-2011</td>\n",
       "      <td>09-06-2013</td>\n",
       "    </tr>\n",
       "    <tr>\n",
       "      <th>7</th>\n",
       "      <td>8</td>\n",
       "      <td>1</td>\n",
       "      <td>1</td>\n",
       "      <td>1</td>\n",
       "      <td>civil judge junior division</td>\n",
       "      <td>0 nonfemale</td>\n",
       "      <td>06-06-2011</td>\n",
       "      <td>08-06-2014</td>\n",
       "    </tr>\n",
       "    <tr>\n",
       "      <th>8</th>\n",
       "      <td>9</td>\n",
       "      <td>1</td>\n",
       "      <td>1</td>\n",
       "      <td>1</td>\n",
       "      <td>civil judge junior division</td>\n",
       "      <td>0 nonfemale</td>\n",
       "      <td>11-06-2012</td>\n",
       "      <td>31-05-2015</td>\n",
       "    </tr>\n",
       "    <tr>\n",
       "      <th>9</th>\n",
       "      <td>10</td>\n",
       "      <td>1</td>\n",
       "      <td>1</td>\n",
       "      <td>1</td>\n",
       "      <td>civil judge junior division</td>\n",
       "      <td>0 nonfemale</td>\n",
       "      <td>29-08-2013</td>\n",
       "      <td>08-06-2014</td>\n",
       "    </tr>\n",
       "  </tbody>\n",
       "</table>\n",
       "</div>"
      ],
      "text/plain": [
       "   ddl_judge_id  state_code  dist_code  court_no               judge_position  \\\n",
       "0             1           1          1         1    chief judicial magistrate   \n",
       "1             2           1          1         1    chief judicial magistrate   \n",
       "2             3           1          1         1    chief judicial magistrate   \n",
       "3             4           1          1         1    chief judicial magistrate   \n",
       "4             5           1          1         1    chief judicial magistrate   \n",
       "5             6           1          1         1    chief judicial magistrate   \n",
       "6             7           1          1         1  civil judge junior division   \n",
       "7             8           1          1         1  civil judge junior division   \n",
       "8             9           1          1         1  civil judge junior division   \n",
       "9            10           1          1         1  civil judge junior division   \n",
       "\n",
       "  female_judge  start_date    end_date  \n",
       "0  0 nonfemale  20-09-2013  20-02-2014  \n",
       "1  0 nonfemale  31-10-2013  20-02-2014  \n",
       "2  0 nonfemale  21-02-2014  31-05-2016  \n",
       "3  0 nonfemale  01-06-2016  06-06-2016  \n",
       "4  0 nonfemale  06-06-2016  07-07-2018  \n",
       "5     1 female  09-07-2018         NaN  \n",
       "6  0 nonfemale  01-06-2011  09-06-2013  \n",
       "7  0 nonfemale  06-06-2011  08-06-2014  \n",
       "8  0 nonfemale  11-06-2012  31-05-2015  \n",
       "9  0 nonfemale  29-08-2013  08-06-2014  "
      ]
     },
     "execution_count": 4,
     "metadata": {},
     "output_type": "execute_result"
    }
   ],
   "source": [
    "df_judges = pd.read_csv(\"./judges_clean.csv\")\n",
    "df_judges.head(10)\n"
   ]
  },
  {
   "cell_type": "code",
   "execution_count": null,
   "metadata": {},
   "outputs": [],
   "source": []
  },
  {
   "cell_type": "code",
   "execution_count": 5,
   "metadata": {},
   "outputs": [
    {
     "name": "stdout",
     "output_type": "stream",
     "text": [
      "The number of unique type of gender of judges in the data : \n"
     ]
    },
    {
     "data": {
      "text/plain": [
       "array(['0 nonfemale', '1 female', '-9998 unclear', nan], dtype=object)"
      ]
     },
     "execution_count": 5,
     "metadata": {},
     "output_type": "execute_result"
    }
   ],
   "source": [
    "df_judges.head(10)\n",
    "print(\"The number of unique type of gender of judges in the data : \")\n",
    "df_judges[\"female_judge\"].unique()\n"
   ]
  },
  {
   "cell_type": "code",
   "execution_count": 6,
   "metadata": {},
   "outputs": [
    {
     "name": "stdout",
     "output_type": "stream",
     "text": [
      "The count of those types : \n"
     ]
    },
    {
     "data": {
      "text/plain": [
       "0 nonfemale      67540\n",
       "1 female         27202\n",
       "-9998 unclear     3735\n",
       "Name: female_judge, dtype: int64"
      ]
     },
     "execution_count": 6,
     "metadata": {},
     "output_type": "execute_result"
    }
   ],
   "source": [
    "print(\"The count of those types : \")\n",
    "df_judges[\"female_judge\"].value_counts()\n"
   ]
  },
  {
   "cell_type": "code",
   "execution_count": 7,
   "metadata": {},
   "outputs": [
    {
     "data": {
      "text/plain": [
       "array(['0 nonfemale', '1 female', nan], dtype=object)"
      ]
     },
     "execution_count": 7,
     "metadata": {},
     "output_type": "execute_result"
    }
   ],
   "source": [
    "#Removing the -9998 unclear rows\n",
    "df_judges=df_judges[df_judges[\"female_judge\"] != \"-9998 unclear\"]\n",
    "df_judges[\"female_judge\"].unique()\n"
   ]
  },
  {
   "cell_type": "code",
   "execution_count": 8,
   "metadata": {},
   "outputs": [
    {
     "data": {
      "text/html": [
       "<div>\n",
       "<style scoped>\n",
       "    .dataframe tbody tr th:only-of-type {\n",
       "        vertical-align: middle;\n",
       "    }\n",
       "\n",
       "    .dataframe tbody tr th {\n",
       "        vertical-align: top;\n",
       "    }\n",
       "\n",
       "    .dataframe thead th {\n",
       "        text-align: right;\n",
       "    }\n",
       "</style>\n",
       "<table border=\"1\" class=\"dataframe\">\n",
       "  <thead>\n",
       "    <tr style=\"text-align: right;\">\n",
       "      <th></th>\n",
       "      <th>ddl_judge_id</th>\n",
       "      <th>state_code</th>\n",
       "      <th>dist_code</th>\n",
       "      <th>court_no</th>\n",
       "      <th>judge_position</th>\n",
       "      <th>female_judge</th>\n",
       "      <th>start_date</th>\n",
       "      <th>end_date</th>\n",
       "    </tr>\n",
       "  </thead>\n",
       "  <tbody>\n",
       "    <tr>\n",
       "      <th>0</th>\n",
       "      <td>1</td>\n",
       "      <td>1</td>\n",
       "      <td>1</td>\n",
       "      <td>1</td>\n",
       "      <td>chief judicial magistrate</td>\n",
       "      <td>0</td>\n",
       "      <td>20-09-2013</td>\n",
       "      <td>20-02-2014</td>\n",
       "    </tr>\n",
       "    <tr>\n",
       "      <th>1</th>\n",
       "      <td>2</td>\n",
       "      <td>1</td>\n",
       "      <td>1</td>\n",
       "      <td>1</td>\n",
       "      <td>chief judicial magistrate</td>\n",
       "      <td>0</td>\n",
       "      <td>31-10-2013</td>\n",
       "      <td>20-02-2014</td>\n",
       "    </tr>\n",
       "    <tr>\n",
       "      <th>2</th>\n",
       "      <td>3</td>\n",
       "      <td>1</td>\n",
       "      <td>1</td>\n",
       "      <td>1</td>\n",
       "      <td>chief judicial magistrate</td>\n",
       "      <td>0</td>\n",
       "      <td>21-02-2014</td>\n",
       "      <td>31-05-2016</td>\n",
       "    </tr>\n",
       "    <tr>\n",
       "      <th>3</th>\n",
       "      <td>4</td>\n",
       "      <td>1</td>\n",
       "      <td>1</td>\n",
       "      <td>1</td>\n",
       "      <td>chief judicial magistrate</td>\n",
       "      <td>0</td>\n",
       "      <td>01-06-2016</td>\n",
       "      <td>06-06-2016</td>\n",
       "    </tr>\n",
       "    <tr>\n",
       "      <th>4</th>\n",
       "      <td>5</td>\n",
       "      <td>1</td>\n",
       "      <td>1</td>\n",
       "      <td>1</td>\n",
       "      <td>chief judicial magistrate</td>\n",
       "      <td>0</td>\n",
       "      <td>06-06-2016</td>\n",
       "      <td>07-07-2018</td>\n",
       "    </tr>\n",
       "    <tr>\n",
       "      <th>5</th>\n",
       "      <td>6</td>\n",
       "      <td>1</td>\n",
       "      <td>1</td>\n",
       "      <td>1</td>\n",
       "      <td>chief judicial magistrate</td>\n",
       "      <td>1</td>\n",
       "      <td>09-07-2018</td>\n",
       "      <td>NaN</td>\n",
       "    </tr>\n",
       "    <tr>\n",
       "      <th>6</th>\n",
       "      <td>7</td>\n",
       "      <td>1</td>\n",
       "      <td>1</td>\n",
       "      <td>1</td>\n",
       "      <td>civil judge junior division</td>\n",
       "      <td>0</td>\n",
       "      <td>01-06-2011</td>\n",
       "      <td>09-06-2013</td>\n",
       "    </tr>\n",
       "    <tr>\n",
       "      <th>7</th>\n",
       "      <td>8</td>\n",
       "      <td>1</td>\n",
       "      <td>1</td>\n",
       "      <td>1</td>\n",
       "      <td>civil judge junior division</td>\n",
       "      <td>0</td>\n",
       "      <td>06-06-2011</td>\n",
       "      <td>08-06-2014</td>\n",
       "    </tr>\n",
       "    <tr>\n",
       "      <th>8</th>\n",
       "      <td>9</td>\n",
       "      <td>1</td>\n",
       "      <td>1</td>\n",
       "      <td>1</td>\n",
       "      <td>civil judge junior division</td>\n",
       "      <td>0</td>\n",
       "      <td>11-06-2012</td>\n",
       "      <td>31-05-2015</td>\n",
       "    </tr>\n",
       "    <tr>\n",
       "      <th>9</th>\n",
       "      <td>10</td>\n",
       "      <td>1</td>\n",
       "      <td>1</td>\n",
       "      <td>1</td>\n",
       "      <td>civil judge junior division</td>\n",
       "      <td>0</td>\n",
       "      <td>29-08-2013</td>\n",
       "      <td>08-06-2014</td>\n",
       "    </tr>\n",
       "  </tbody>\n",
       "</table>\n",
       "</div>"
      ],
      "text/plain": [
       "   ddl_judge_id  state_code  dist_code  court_no               judge_position  \\\n",
       "0             1           1          1         1    chief judicial magistrate   \n",
       "1             2           1          1         1    chief judicial magistrate   \n",
       "2             3           1          1         1    chief judicial magistrate   \n",
       "3             4           1          1         1    chief judicial magistrate   \n",
       "4             5           1          1         1    chief judicial magistrate   \n",
       "5             6           1          1         1    chief judicial magistrate   \n",
       "6             7           1          1         1  civil judge junior division   \n",
       "7             8           1          1         1  civil judge junior division   \n",
       "8             9           1          1         1  civil judge junior division   \n",
       "9            10           1          1         1  civil judge junior division   \n",
       "\n",
       "   female_judge  start_date    end_date  \n",
       "0             0  20-09-2013  20-02-2014  \n",
       "1             0  31-10-2013  20-02-2014  \n",
       "2             0  21-02-2014  31-05-2016  \n",
       "3             0  01-06-2016  06-06-2016  \n",
       "4             0  06-06-2016  07-07-2018  \n",
       "5             1  09-07-2018         NaN  \n",
       "6             0  01-06-2011  09-06-2013  \n",
       "7             0  06-06-2011  08-06-2014  \n",
       "8             0  11-06-2012  31-05-2015  \n",
       "9             0  29-08-2013  08-06-2014  "
      ]
     },
     "execution_count": 8,
     "metadata": {},
     "output_type": "execute_result"
    }
   ],
   "source": [
    "# Converting the strings to numbers\n",
    "# \"0 nonfemale\" & to 0\n",
    "# \"1 female\" to 1\n",
    "# df_judges.loc.__setitem__((slice(None),(\"female_judge\",\"1 female\")),0)\n",
    "df_judges[\"female_judge\"]=(df_judges[\"female_judge\"]==\"1 female\").astype(int)\n",
    "df_judges.head(10)"
   ]
  },
  {
   "attachments": {},
   "cell_type": "markdown",
   "metadata": {},
   "source": [
    "### Checking the cases that were closed within a year"
   ]
  },
  {
   "cell_type": "code",
   "execution_count": 9,
   "metadata": {},
   "outputs": [
    {
     "name": "stdout",
     "output_type": "stream",
     "text": [
      "Closed within a year :  44120\n",
      "Not closed within a year :  30932\n"
     ]
    }
   ],
   "source": [
    "closed_within_year=0\n",
    "not_closed_within_year=0\n",
    "df_judges[\"start_date\"]=pd.to_datetime(df_judges[\"start_date\"])\n",
    "df_judges[\"end_date\"]=pd.to_datetime(df_judges[\"end_date\"])\n",
    "\n",
    "df_judges.head()\n",
    "temp_df=(df_judges[\"end_date\"]-df_judges[\"start_date\"])\n",
    "temp_df=temp_df.dt.days\n",
    "temp_df=temp_df[temp_df<=1500] #it was giving values upto 8000 so I limited it to 1500\n",
    "\n",
    "\n",
    "\n",
    "closed_within_year=temp_df[temp_df<=365].count()\n",
    "not_closed_within_year=temp_df[temp_df>365].count()\n",
    "\n",
    "\n",
    "print(\"Closed within a year : \",closed_within_year)\n",
    "print(\"Not closed within a year : \",not_closed_within_year)\n"
   ]
  },
  {
   "attachments": {},
   "cell_type": "markdown",
   "metadata": {},
   "source": [
    "### Count the number of judges in each state\n"
   ]
  },
  {
   "cell_type": "code",
   "execution_count": 10,
   "metadata": {},
   "outputs": [
    {
     "name": "stdout",
     "output_type": "stream",
     "text": [
      "    Number_of_judges  State_code State_name\n",
      "0              21987           1       temp\n",
      "1              13999          13       temp\n",
      "2               6440           3       temp\n",
      "3               5583          23       temp\n",
      "4               5390           9       temp\n",
      "5               4949          17       temp\n",
      "6               4121           8       temp\n",
      "7               3655          10       temp\n",
      "8               3492           2       temp\n",
      "9               3060           4       temp\n",
      "10              2677          16       temp\n",
      "11              2568          29       temp\n",
      "12              2321          14       temp\n",
      "13              2283           7       temp\n",
      "14              2034          11       temp\n",
      "15              1921          22       temp\n",
      "16              1550           6       temp\n",
      "17              1457          26       temp\n",
      "18              1078          15       temp\n",
      "19              1032          18       temp\n",
      "20               899          12       temp\n",
      "21               897           5       temp\n",
      "22               438          20       temp\n",
      "23               324          30       temp\n",
      "24               165          24       temp\n",
      "25               148          21       temp\n",
      "26               140          27       temp\n",
      "27                98          25       temp\n",
      "28                37          19       temp\n"
     ]
    }
   ],
   "source": [
    "# Count the number of judges in each state\n",
    "judgesperstate=df_judges[\"state_code\"].value_counts()\n",
    "df_judgesperstate=pd.DataFrame(judgesperstate)\n",
    "\n",
    "df_judgesperstate[\"State_code\"]=df_judgesperstate.index\n",
    "df_judgesperstate.rename(columns={\"state_code\":\"Number_of_judges\"},inplace=True)\n",
    "df_judgesperstate.reset_index(drop=True,inplace=True)\n",
    "df_judgesperstate[\"State_name\"]=\"temp\"\n",
    "\n",
    "print(df_judgesperstate)\n"
   ]
  },
  {
   "cell_type": "code",
   "execution_count": 11,
   "metadata": {},
   "outputs": [
    {
     "name": "stdout",
     "output_type": "stream",
     "text": [
      "    state_code         state_name\n",
      "0            1        Maharashtra\n",
      "1            2     Andhra Pradesh\n",
      "2            3          Karnataka\n",
      "3            4             Kerala\n",
      "4            5   Himachal Pradesh\n",
      "5            6              Assam\n",
      "6            7          Jharkhand\n",
      "7            8              Bihar\n",
      "8            9          Rajasthan\n",
      "9           10         Tamil Nadu\n",
      "10          11             Orissa\n",
      "11          12  Jammu and Kashmir\n",
      "12          13      Uttar Pradesh\n",
      "13          14            Haryana\n",
      "14          15        Uttarakhand\n",
      "15          16        West Bengal\n",
      "16          17            Gujarat\n",
      "17          18       Chhattisgarh\n",
      "18          19            Mizoram\n",
      "19          20            Tripura\n",
      "20          21          Meghalaya\n",
      "21          22             Punjab\n",
      "22          23     Madhya Pradesh\n",
      "23          24             Sikkim\n",
      "24          25            Manipur\n",
      "25          26              Delhi\n",
      "26          27         Chandigarh\n",
      "27          29          Telangana\n",
      "28          30                Goa\n",
      "29          31      Diu and Daman\n",
      "30          32     DNH at Silvasa\n",
      "31          33             Ladakh\n"
     ]
    }
   ],
   "source": [
    "# Getting the state codes \n",
    "\n",
    "df_statecodes=pd.read_csv(\"./keys/cases_state_key.csv\")\n",
    "\n",
    "#storing only on basis of 2018 codes\n",
    "df_statecodes=df_statecodes[df_statecodes[\"year\"]==2018]\n",
    "df_statecodes.drop([\"year\",\"pc11_state_name\",\"pc11_state_id\"],axis=1,inplace=True)\n",
    "df_statecodes.sort_values(by=\"state_code\",inplace=True)\n",
    "df_statecodes.reset_index(drop=True,inplace=True)\n",
    "print(df_statecodes)\n"
   ]
  },
  {
   "cell_type": "code",
   "execution_count": 14,
   "metadata": {},
   "outputs": [
    {
     "name": "stdout",
     "output_type": "stream",
     "text": [
      "    Number_of_judges         State_name\n",
      "0              21987        Maharashtra\n",
      "1              13999     Andhra Pradesh\n",
      "2               6440          Karnataka\n",
      "3               5583             Kerala\n",
      "4               5390   Himachal Pradesh\n",
      "5               4949              Assam\n",
      "6               4121          Jharkhand\n",
      "7               3655              Bihar\n",
      "8               3492          Rajasthan\n",
      "9               3060         Tamil Nadu\n",
      "10              2677             Orissa\n",
      "11              2568  Jammu and Kashmir\n",
      "12              2321      Uttar Pradesh\n",
      "13              2283            Haryana\n",
      "14              2034        Uttarakhand\n",
      "15              1921        West Bengal\n",
      "16              1550            Gujarat\n",
      "17              1457       Chhattisgarh\n",
      "18              1078            Mizoram\n",
      "19              1032            Tripura\n",
      "20               899          Meghalaya\n",
      "21               897             Punjab\n",
      "22               438     Madhya Pradesh\n",
      "23               324             Sikkim\n",
      "24               165            Manipur\n",
      "25               148              Delhi\n",
      "26               140         Chandigarh\n",
      "27                98          Telangana\n",
      "28                37                Goa\n"
     ]
    }
   ],
   "source": [
    "#assigning the state names to the state codes\n",
    "for i in range(len(df_judgesperstate)):\n",
    "    df_judgesperstate.loc[i,\"State_name\"]=df_statecodes.loc[i,\"state_name\"]\n",
    "\n",
    "df_judgesperstate.drop(\"State_code\",axis=1,inplace=True)\n",
    "print(df_judgesperstate)\n"
   ]
  },
  {
   "cell_type": "code",
   "execution_count": null,
   "metadata": {},
   "outputs": [],
   "source": []
  }
 ],
 "metadata": {
  "kernelspec": {
   "display_name": "Python 3",
   "language": "python",
   "name": "python3"
  },
  "language_info": {
   "codemirror_mode": {
    "name": "ipython",
    "version": 3
   },
   "file_extension": ".py",
   "mimetype": "text/x-python",
   "name": "python",
   "nbconvert_exporter": "python",
   "pygments_lexer": "ipython3",
   "version": "3.10.7"
  },
  "orig_nbformat": 4,
  "vscode": {
   "interpreter": {
    "hash": "916dbcbb3f70747c44a77c7bcd40155683ae19c65e1c03b4aa3499c5328201f1"
   }
  }
 },
 "nbformat": 4,
 "nbformat_minor": 2
}
